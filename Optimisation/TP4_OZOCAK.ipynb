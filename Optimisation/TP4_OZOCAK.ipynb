{
 "cells": [
  {
   "cell_type": "code",
   "execution_count": 18,
   "metadata": {},
   "outputs": [
    {
     "name": "stdout",
     "output_type": "stream",
     "text": [
      "[[0.15216302 0.41362198]\n",
      " [0.41362198 0.02059303]]\n",
      "[0.26894142 0.73105858]\n"
     ]
    }
   ],
   "source": [
    "# Importer les bibliothèques nécessaires\n",
    "import numpy as np\n",
    "from scipy.special import softmax\n",
    "\n",
    "def sigma1(u):\n",
    "    return np.maximum(0, u)\n",
    "\n",
    "def sigma2(u):\n",
    "    return softmax(u)\n",
    "\n",
    "x = np.array([1,1])\n",
    "w1 = np.array([[0,1],[0,-1]])\n",
    "w2 = np.array([[1,2],[2,-1]])\n",
    "\n",
    "def forward_pass(x, w1, w2):\n",
    "    u1 = np.dot(w1,x)\n",
    "    u2 = sigma1(u1)\n",
    "    u3 = np.dot(w2,u2)\n",
    "    return sigma2(u3)\n",
    "\n",
    "print(forward_pass(x,w1,w2))\n"
   ]
  }
 ],
 "metadata": {
  "kernelspec": {
   "display_name": "Python 3",
   "language": "python",
   "name": "python3"
  },
  "language_info": {
   "codemirror_mode": {
    "name": "ipython",
    "version": 3
   },
   "file_extension": ".py",
   "mimetype": "text/x-python",
   "name": "python",
   "nbconvert_exporter": "python",
   "pygments_lexer": "ipython3",
   "version": "3.12.3"
  }
 },
 "nbformat": 4,
 "nbformat_minor": 2
}
